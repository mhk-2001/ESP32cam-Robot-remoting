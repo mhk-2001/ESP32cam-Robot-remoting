{
  "cells": [
    {
      "cell_type": "markdown",
      "metadata": {
        "id": "view-in-github",
        "colab_type": "text"
      },
      "source": [
        "<a href=\"https://colab.research.google.com/github/mhk-2001/ESP32cam-Robot-remoting/blob/main/Copy_of_chapter04_getting_started_with_neural_networks_i.ipynb\" target=\"_parent\"><img src=\"https://colab.research.google.com/assets/colab-badge.svg\" alt=\"Open In Colab\"/></a>"
      ]
    },
    {
      "cell_type": "markdown",
      "metadata": {
        "id": "VEVmBa1PXGdE"
      },
      "source": [
        "This is a companion notebook for the book [Deep Learning with Python, Second Edition](https://www.manning.com/books/deep-learning-with-python-second-edition?a_aid=keras&a_bid=76564dff). For readability, it only contains runnable code blocks and section titles, and omits everything else in the book: text paragraphs, figures, and pseudocode.\n",
        "\n",
        "**If you want to be able to follow what's going on, I recommend reading the notebook side by side with your copy of the book.**\n",
        "\n",
        "This notebook was generated for TensorFlow 2.6."
      ]
    },
    {
      "cell_type": "markdown",
      "metadata": {
        "id": "umiA8TttXGdF"
      },
      "source": [
        "# Getting started with neural networks: Classification and regression"
      ]
    },
    {
      "cell_type": "markdown",
      "metadata": {
        "id": "rXeBMWXZXGdF"
      },
      "source": [
        "## Classifying movie reviews: A binary classification example"
      ]
    },
    {
      "cell_type": "markdown",
      "metadata": {
        "id": "tiprrrC7XGdF"
      },
      "source": [
        "### The IMDB dataset"
      ]
    },
    {
      "cell_type": "markdown",
      "metadata": {
        "id": "YsRnRwvWXGdF"
      },
      "source": [
        "**Loading the IMDB dataset**"
      ]
    },
    {
      "cell_type": "code",
      "execution_count": null,
      "metadata": {
        "id": "oPy7yJOgXGdF",
        "outputId": "a8f8c47e-c3b8-45e1-ff70-6df03d2688cb",
        "colab": {
          "base_uri": "https://localhost:8080/"
        }
      },
      "outputs": [
        {
          "output_type": "stream",
          "name": "stdout",
          "text": [
            "Downloading data from https://storage.googleapis.com/tensorflow/tf-keras-datasets/imdb.npz\n",
            "17464789/17464789 [==============================] - 0s 0us/step\n"
          ]
        }
      ],
      "source": [
        "from tensorflow.keras.datasets import imdb\n",
        "(train_data, train_labels), (test_data, test_labels) = imdb.load_data(\n",
        "    num_words=10000)"
      ]
    },
    {
      "cell_type": "code",
      "execution_count": null,
      "metadata": {
        "id": "_XkqXdSTXGdG"
      },
      "outputs": [],
      "source": [
        "train_data[0]"
      ]
    },
    {
      "cell_type": "code",
      "execution_count": null,
      "metadata": {
        "id": "Z--BDhy7XGdG"
      },
      "outputs": [],
      "source": [
        "train_labels[0]"
      ]
    },
    {
      "cell_type": "code",
      "execution_count": null,
      "metadata": {
        "id": "Tp2pYsWIXGdG",
        "outputId": "f405e3e5-1b52-415c-8064-9fb1d555574d",
        "colab": {
          "base_uri": "https://localhost:8080/"
        }
      },
      "outputs": [
        {
          "output_type": "execute_result",
          "data": {
            "text/plain": [
              "9999"
            ]
          },
          "metadata": {},
          "execution_count": 5
        }
      ],
      "source": [
        "max([max(sequence) for sequence in train_data])"
      ]
    },
    {
      "cell_type": "markdown",
      "metadata": {
        "id": "yg9LNzj0XGdG"
      },
      "source": [
        "**Decoding reviews back to text**"
      ]
    },
    {
      "cell_type": "code",
      "execution_count": null,
      "metadata": {
        "id": "uDg0nlbpXGdG",
        "outputId": "2d0bc25f-3d56-4f22-eceb-2d61711691e3",
        "colab": {
          "base_uri": "https://localhost:8080/"
        }
      },
      "outputs": [
        {
          "output_type": "stream",
          "name": "stdout",
          "text": [
            "Downloading data from https://storage.googleapis.com/tensorflow/tf-keras-datasets/imdb_word_index.json\n",
            "1641221/1641221 [==============================] - 0s 0us/step\n"
          ]
        }
      ],
      "source": [
        "word_index = imdb.get_word_index()\n",
        "reverse_word_index = dict(\n",
        "    [(value, key) for (key, value) in word_index.items()])\n",
        "decoded_review = \" \".join(\n",
        "    [reverse_word_index.get(i - 3, \"?\") for i in train_data[0]])"
      ]
    },
    {
      "cell_type": "code",
      "source": [
        "print(decoded_review)"
      ],
      "metadata": {
        "id": "eb-xR1vAYdqX",
        "outputId": "00904930-191b-451f-c0db-c0c572f81831",
        "colab": {
          "base_uri": "https://localhost:8080/"
        }
      },
      "execution_count": null,
      "outputs": [
        {
          "output_type": "stream",
          "name": "stdout",
          "text": [
            "? this film was just brilliant casting location scenery story direction everyone's really suited the part they played and you could just imagine being there robert ? is an amazing actor and now the same being director ? father came from the same scottish island as myself so i loved the fact there was a real connection with this film the witty remarks throughout the film were great it was just brilliant so much that i bought the film as soon as it was released for ? and would recommend it to everyone to watch and the fly fishing was amazing really cried at the end it was so sad and you know what they say if you cry at a film it must have been good and this definitely was also ? to the two little boy's that played the ? of norman and paul they were just brilliant children are often left out of the ? list i think because the stars that play them all grown up are such a big profile for the whole film but these children are amazing and should be praised for what they have done don't you think the whole story was so lovely because it was true and was someone's life after all that was shared with us all\n"
          ]
        }
      ]
    },
    {
      "cell_type": "markdown",
      "metadata": {
        "id": "NrGpeFdJXGdG"
      },
      "source": [
        "### Preparing the data"
      ]
    },
    {
      "cell_type": "markdown",
      "metadata": {
        "id": "7ICb1GLjXGdG"
      },
      "source": [
        "**Encoding the integer sequences via multi-hot encoding**"
      ]
    },
    {
      "cell_type": "code",
      "execution_count": null,
      "metadata": {
        "id": "_46nV0XzXGdG"
      },
      "outputs": [],
      "source": [
        "import numpy as np\n",
        "def vectorize_sequences(sequences, dimension=10000):\n",
        "    results = np.zeros((len(sequences), dimension))\n",
        "    for i, sequence in enumerate(sequences):\n",
        "        for j in sequence:\n",
        "            results[i, j] = 1.\n",
        "    return results\n",
        "x_train = vectorize_sequences(train_data)\n",
        "x_test = vectorize_sequences(test_data)"
      ]
    },
    {
      "cell_type": "code",
      "execution_count": null,
      "metadata": {
        "id": "kd6gjuthXGdG",
        "outputId": "3dafa711-20ba-47de-f50f-f3d2611fe992",
        "colab": {
          "base_uri": "https://localhost:8080/"
        }
      },
      "outputs": [
        {
          "output_type": "execute_result",
          "data": {
            "text/plain": [
              "array([0., 1., 1., ..., 0., 0., 0.])"
            ]
          },
          "metadata": {},
          "execution_count": 14
        }
      ],
      "source": [
        "x_train[0]"
      ]
    },
    {
      "cell_type": "code",
      "execution_count": null,
      "metadata": {
        "id": "AUDb3eA6XGdH"
      },
      "outputs": [],
      "source": [
        "y_train = np.asarray(train_labels).astype(\"float32\")\n",
        "y_test = np.asarray(test_labels).astype(\"float32\")"
      ]
    },
    {
      "cell_type": "markdown",
      "metadata": {
        "id": "0irY0ha4XGdH"
      },
      "source": [
        "### Building your model"
      ]
    },
    {
      "cell_type": "markdown",
      "metadata": {
        "id": "HIzqschwXGdH"
      },
      "source": [
        "**Model definition**"
      ]
    },
    {
      "cell_type": "code",
      "execution_count": null,
      "metadata": {
        "id": "LKWtMOcpXGdH"
      },
      "outputs": [],
      "source": [
        "from tensorflow import keras\n",
        "from tensorflow.keras import layers\n",
        "\n",
        "model = keras.Sequential([\n",
        "    layers.Dense(16, activation=\"relu\"),\n",
        "    layers.Dense(16, activation=\"relu\"),\n",
        "    layers.Dense(1, activation=\"sigmoid\")\n",
        "])"
      ]
    },
    {
      "cell_type": "markdown",
      "metadata": {
        "id": "rAm1T62lXGdH"
      },
      "source": [
        "**Compiling the model**"
      ]
    },
    {
      "cell_type": "code",
      "execution_count": null,
      "metadata": {
        "id": "N3w0pRSYXGdH"
      },
      "outputs": [],
      "source": [
        "model.compile(optimizer=\"rmsprop\",\n",
        "              loss=\"binary_crossentropy\",\n",
        "              metrics=[\"accuracy\"])"
      ]
    },
    {
      "cell_type": "markdown",
      "metadata": {
        "id": "iJYU6Il8XGdH"
      },
      "source": [
        "### Validating your approach"
      ]
    },
    {
      "cell_type": "markdown",
      "metadata": {
        "id": "ZZH6FZ6fXGdH"
      },
      "source": [
        "**Setting aside a validation set**"
      ]
    },
    {
      "cell_type": "code",
      "execution_count": null,
      "metadata": {
        "id": "Lz6YFZZXXGdH"
      },
      "outputs": [],
      "source": [
        "x_val = x_train[:10000]\n",
        "partial_x_train = x_train[10000:]\n",
        "y_val = y_train[:10000]\n",
        "partial_y_train = y_train[10000:]"
      ]
    },
    {
      "cell_type": "markdown",
      "metadata": {
        "id": "x8AR-O1XXGdH"
      },
      "source": [
        "**Training your model**"
      ]
    },
    {
      "cell_type": "code",
      "execution_count": null,
      "metadata": {
        "id": "bIQE2rvQXGdH",
        "outputId": "32eeb2cd-3504-4953-d752-3fc734cbb5e8",
        "colab": {
          "base_uri": "https://localhost:8080/"
        }
      },
      "outputs": [
        {
          "output_type": "stream",
          "name": "stdout",
          "text": [
            "Epoch 1/20\n",
            "30/30 [==============================] - 3s 88ms/step - loss: 0.5251 - accuracy: 0.7850 - val_loss: 0.4105 - val_accuracy: 0.8609\n",
            "Epoch 2/20\n",
            "30/30 [==============================] - 2s 54ms/step - loss: 0.3320 - accuracy: 0.8969 - val_loss: 0.3297 - val_accuracy: 0.8757\n",
            "Epoch 3/20\n",
            "30/30 [==============================] - 1s 34ms/step - loss: 0.2511 - accuracy: 0.9202 - val_loss: 0.2893 - val_accuracy: 0.8885\n",
            "Epoch 4/20\n",
            "30/30 [==============================] - 2s 51ms/step - loss: 0.2032 - accuracy: 0.9335 - val_loss: 0.2851 - val_accuracy: 0.8831\n",
            "Epoch 5/20\n",
            "30/30 [==============================] - 2s 60ms/step - loss: 0.1694 - accuracy: 0.9466 - val_loss: 0.2917 - val_accuracy: 0.8815\n",
            "Epoch 6/20\n",
            "30/30 [==============================] - 2s 58ms/step - loss: 0.1471 - accuracy: 0.9533 - val_loss: 0.2841 - val_accuracy: 0.8852\n",
            "Epoch 7/20\n",
            "30/30 [==============================] - 1s 42ms/step - loss: 0.1282 - accuracy: 0.9591 - val_loss: 0.2884 - val_accuracy: 0.8865\n",
            "Epoch 8/20\n",
            "30/30 [==============================] - 1s 35ms/step - loss: 0.1090 - accuracy: 0.9681 - val_loss: 0.2987 - val_accuracy: 0.8848\n",
            "Epoch 9/20\n",
            "30/30 [==============================] - 1s 32ms/step - loss: 0.0950 - accuracy: 0.9729 - val_loss: 0.3136 - val_accuracy: 0.8824\n",
            "Epoch 10/20\n",
            "30/30 [==============================] - 1s 34ms/step - loss: 0.0812 - accuracy: 0.9785 - val_loss: 0.3293 - val_accuracy: 0.8822\n",
            "Epoch 11/20\n",
            "30/30 [==============================] - 2s 53ms/step - loss: 0.0706 - accuracy: 0.9825 - val_loss: 0.3624 - val_accuracy: 0.8756\n",
            "Epoch 12/20\n",
            "30/30 [==============================] - 1s 36ms/step - loss: 0.0592 - accuracy: 0.9863 - val_loss: 0.3625 - val_accuracy: 0.8768\n",
            "Epoch 13/20\n",
            "30/30 [==============================] - 1s 41ms/step - loss: 0.0518 - accuracy: 0.9883 - val_loss: 0.3905 - val_accuracy: 0.8713\n",
            "Epoch 14/20\n",
            "30/30 [==============================] - 2s 53ms/step - loss: 0.0434 - accuracy: 0.9911 - val_loss: 0.4095 - val_accuracy: 0.8708\n",
            "Epoch 15/20\n",
            "30/30 [==============================] - 2s 63ms/step - loss: 0.0366 - accuracy: 0.9934 - val_loss: 0.4385 - val_accuracy: 0.8665\n",
            "Epoch 16/20\n",
            "30/30 [==============================] - 2s 61ms/step - loss: 0.0305 - accuracy: 0.9951 - val_loss: 0.4540 - val_accuracy: 0.8721\n",
            "Epoch 17/20\n",
            "30/30 [==============================] - 1s 48ms/step - loss: 0.0258 - accuracy: 0.9965 - val_loss: 0.4650 - val_accuracy: 0.8732\n",
            "Epoch 18/20\n",
            "30/30 [==============================] - 1s 40ms/step - loss: 0.0237 - accuracy: 0.9960 - val_loss: 0.4815 - val_accuracy: 0.8717\n",
            "Epoch 19/20\n",
            "30/30 [==============================] - 1s 36ms/step - loss: 0.0160 - accuracy: 0.9990 - val_loss: 0.5534 - val_accuracy: 0.8646\n",
            "Epoch 20/20\n",
            "30/30 [==============================] - 1s 40ms/step - loss: 0.0155 - accuracy: 0.9989 - val_loss: 0.5296 - val_accuracy: 0.8711\n"
          ]
        }
      ],
      "source": [
        "history = model.fit(partial_x_train,\n",
        "                    partial_y_train,\n",
        "                    epochs=20,\n",
        "                    batch_size=512,\n",
        "                    validation_data=(x_val, y_val))"
      ]
    },
    {
      "cell_type": "code",
      "execution_count": null,
      "metadata": {
        "id": "U6ZhvWe5XGdH",
        "outputId": "e2ea36fc-3a0a-4f98-87b4-6b2457fe5526",
        "colab": {
          "base_uri": "https://localhost:8080/"
        }
      },
      "outputs": [
        {
          "output_type": "execute_result",
          "data": {
            "text/plain": [
              "dict_keys(['loss', 'accuracy', 'val_loss', 'val_accuracy'])"
            ]
          },
          "metadata": {},
          "execution_count": 15
        }
      ],
      "source": [
        "history_dict = history.history\n",
        "history_dict.keys()"
      ]
    },
    {
      "cell_type": "markdown",
      "metadata": {
        "id": "ecdeq3BhXGdH"
      },
      "source": [
        "**Plotting the training and validation loss**"
      ]
    },
    {
      "cell_type": "code",
      "execution_count": null,
      "metadata": {
        "id": "AGaLNkYjXGdH",
        "outputId": "d526dc14-ec64-4e34-e24a-74369a612587",
        "colab": {
          "base_uri": "https://localhost:8080/",
          "height": 472
        }
      },
      "outputs": [
        {
          "output_type": "display_data",
          "data": {
            "text/plain": [
              "<Figure size 640x480 with 1 Axes>"
            ],
            "image/png": "[encoded data removed]"
          },
          "metadata": {}
        }
      ],
      "source": [
        "import matplotlib.pyplot as plt\n",
        "history_dict = history.history\n",
        "loss_values = history_dict[\"loss\"]\n",
        "val_loss_values = history_dict[\"val_loss\"]\n",
        "epochs = range(1, len(loss_values) + 1)\n",
        "plt.plot(epochs, loss_values, \"bo\", label=\"Training loss\")\n",
        "plt.plot(epochs, val_loss_values, \"b\", label=\"Validation loss\")\n",
        "plt.title(\"Training and validation loss\")\n",
        "plt.xlabel(\"Epochs\")\n",
        "plt.ylabel(\"Loss\")\n",
        "plt.legend()\n",
        "plt.show()"
      ]
    },
    {
      "cell_type": "markdown",
      "metadata": {
        "id": "yAVnikNzXGdH"
      },
      "source": [
        "**Plotting the training and validation accuracy**"
      ]
    },
    {
      "cell_type": "code",
      "execution_count": null,
      "metadata": {
        "id": "NZrHeNIgXGdH",
        "outputId": "c9d21070-1e40-4915-b2d1-26e7504d302b",
        "colab": {
          "base_uri": "https://localhost:8080/",
          "height": 472
        }
      },
      "outputs": [
        {
          "output_type": "display_data",
          "data": {
            "text/plain": [
              "<Figure size 640x480 with 1 Axes>"
            ],
            "image/png": "[encoded data removed]"
          },
          "metadata": {}
        }
      ],
      "source": [
        "plt.clf()\n",
        "acc = history_dict[\"accuracy\"]\n",
        "val_acc = history_dict[\"val_accuracy\"]\n",
        "plt.plot(epochs, acc, \"bo\", label=\"Training acc\")\n",
        "plt.plot(epochs, val_acc, \"b\", label=\"Validation acc\")\n",
        "plt.title(\"Training and validation accuracy\")\n",
        "plt.xlabel(\"Epochs\")\n",
        "plt.ylabel(\"Accuracy\")\n",
        "plt.legend()\n",
        "plt.show()"
      ]
    },
    {
      "cell_type": "markdown",
      "metadata": {
        "id": "bbzdJvzRXGdH"
      },
      "source": [
        "**Retraining a model from scratch**"
      ]
    },
    {
      "cell_type": "code",
      "execution_count": null,
      "metadata": {
        "id": "-P4s5ymwXGdH",
        "outputId": "11a0d9dd-fc5e-4150-979f-480b21898a38",
        "colab": {
          "base_uri": "https://localhost:8080/"
        }
      },
      "outputs": [
        {
          "output_type": "stream",
          "name": "stdout",
          "text": [
            "Epoch 1/4\n",
            "49/49 [==============================] - 6s 57ms/step - loss: 0.4932 - accuracy: 0.7963\n",
            "Epoch 2/4\n",
            "49/49 [==============================] - 2s 48ms/step - loss: 0.2898 - accuracy: 0.9018\n",
            "Epoch 3/4\n",
            "49/49 [==============================] - 3s 53ms/step - loss: 0.2235 - accuracy: 0.9211\n",
            "Epoch 4/4\n",
            "49/49 [==============================] - 2s 45ms/step - loss: 0.1896 - accuracy: 0.9338\n",
            "782/782 [==============================] - 3s 4ms/step - loss: 0.2842 - accuracy: 0.8862\n"
          ]
        }
      ],
      "source": [
        "model = keras.Sequential([\n",
        "    layers.Dense(16, activation=\"relu\"),\n",
        "    layers.Dense(16, activation=\"relu\"),\n",
        "    layers.Dense(1, activation=\"sigmoid\")\n",
        "])\n",
        "model.compile(optimizer=\"rmsprop\",\n",
        "              loss=\"binary_crossentropy\",\n",
        "              metrics=[\"accuracy\"])\n",
        "model.fit(x_train, y_train, epochs=4, batch_size=512)\n",
        "results = model.evaluate(x_test, y_test)"
      ]
    },
    {
      "cell_type": "code",
      "execution_count": null,
      "metadata": {
        "id": "KahXmcDoXGdI",
        "outputId": "24d8d452-fce7-4caf-dae2-0d42e958f5da",
        "colab": {
          "base_uri": "https://localhost:8080/"
        }
      },
      "outputs": [
        {
          "output_type": "execute_result",
          "data": {
            "text/plain": [
              "[0.2841794788837433, 0.8861600160598755]"
            ]
          },
          "metadata": {},
          "execution_count": 19
        }
      ],
      "source": [
        "results"
      ]
    },
    {
      "cell_type": "markdown",
      "metadata": {
        "id": "SrbkIhITXGdI"
      },
      "source": [
        "### Using a trained model to generate predictions on new data"
      ]
    },
    {
      "cell_type": "code",
      "execution_count": null,
      "metadata": {
        "id": "1zBcwlBVXGdI",
        "outputId": "7e4c2c47-4182-4130-b9f6-f6d85a45746a",
        "colab": {
          "base_uri": "https://localhost:8080/"
        }
      },
      "outputs": [
        {
          "output_type": "stream",
          "name": "stdout",
          "text": [
            "782/782 [==============================] - 2s 3ms/step\n"
          ]
        },
        {
          "output_type": "execute_result",
          "data": {
            "text/plain": [
              "array([[0.22680436],\n",
              "       [0.99550664],\n",
              "       [0.8830328 ],\n",
              "       ...,\n",
              "       [0.11748442],\n",
              "       [0.07900848],\n",
              "       [0.63090044]], dtype=float32)"
            ]
          },
          "metadata": {},
          "execution_count": 20
        }
      ],
      "source": [
        "model.predict(x_test)"
      ]
    },
    {
      "cell_type": "markdown",
      "metadata": {
        "id": "JayUxfjYXGdI"
      },
      "source": [
        "### Further experiments"
      ]
    },
    {
      "cell_type": "markdown",
      "metadata": {
        "id": "SydCVyNJXGdI"
      },
      "source": [
        "### Wrapping up"
      ]
    },
    {
      "cell_type": "markdown",
      "metadata": {
        "id": "UUSEz17_XGdI"
      },
      "source": [
        "## Classifying newswires: A multiclass classification example"
      ]
    },
    {
      "cell_type": "markdown",
      "metadata": {
        "id": "2xKc00xlXGdR"
      },
      "source": [
        "### The Reuters dataset"
      ]
    },
    {
      "cell_type": "markdown",
      "metadata": {
        "id": "I4OttVamXGdR"
      },
      "source": [
        "**Loading the Reuters dataset**"
      ]
    },
    {
      "cell_type": "code",
      "execution_count": null,
      "metadata": {
        "id": "nqbuWRPCXGdR",
        "outputId": "31df4330-650a-44a5-d322-bc2ea313e363",
        "colab": {
          "base_uri": "https://localhost:8080/"
        }
      },
      "outputs": [
        {
          "output_type": "stream",
          "name": "stdout",
          "text": [
            "Downloading data from https://storage.googleapis.com/tensorflow/tf-keras-datasets/reuters.npz\n",
            "2110848/2110848 [==============================] - 0s 0us/step\n"
          ]
        }
      ],
      "source": [
        "from tensorflow.keras.datasets import reuters\n",
        "(train_data, train_labels), (test_data, test_labels) = reuters.load_data(\n",
        "    num_words=10000)"
      ]
    },
    {
      "cell_type": "code",
      "execution_count": null,
      "metadata": {
        "id": "px6HIK3FXGdR",
        "outputId": "ea8fc4af-683e-4299-e553-e91da7bd0069",
        "colab": {
          "base_uri": "https://localhost:8080/"
        }
      },
      "outputs": [
        {
          "output_type": "execute_result",
          "data": {
            "text/plain": [
              "8982"
            ]
          },
          "metadata": {},
          "execution_count": 24
        }
      ],
      "source": [
        "len(train_data)"
      ]
    },
    {
      "cell_type": "code",
      "execution_count": null,
      "metadata": {
        "id": "XGfNz1GoXGdR",
        "outputId": "083a1e57-c005-4fc7-c66b-bede637c0797",
        "colab": {
          "base_uri": "https://localhost:8080/"
        }
      },
      "outputs": [
        {
          "output_type": "execute_result",
          "data": {
            "text/plain": [
              "25000"
            ]
          },
          "metadata": {},
          "execution_count": 21
        }
      ],
      "source": [
        "len(test_data)"
      ]
    },
    {
      "cell_type": "code",
      "execution_count": null,
      "metadata": {
        "id": "_7kygVmFXGdR",
        "outputId": "5602c863-3d2e-48f0-9ad6-f2b328fa4c71",
        "colab": {
          "base_uri": "https://localhost:8080/"
        }
      },
      "outputs": [
        {
          "output_type": "execute_result",
          "data": {
            "text/plain": [
              "[1,\n",
              " 785,\n",
              " 189,\n",
              " 438,\n",
              " 47,\n",
              " 110,\n",
              " 142,\n",
              " 7,\n",
              " 6,\n",
              " 7475,\n",
              " 120,\n",
              " 4,\n",
              " 236,\n",
              " 378,\n",
              " 7,\n",
              " 153,\n",
              " 19,\n",
              " 87,\n",
              " 108,\n",
              " 141,\n",
              " 17,\n",
              " 1004,\n",
              " 5,\n",
              " 2,\n",
              " 883,\n",
              " 2,\n",
              " 23,\n",
              " 8,\n",
              " 4,\n",
              " 136,\n",
              " 2,\n",
              " 2,\n",
              " 4,\n",
              " 7475,\n",
              " 43,\n",
              " 1076,\n",
              " 21,\n",
              " 1407,\n",
              " 419,\n",
              " 5,\n",
              " 5202,\n",
              " 120,\n",
              " 91,\n",
              " 682,\n",
              " 189,\n",
              " 2818,\n",
              " 5,\n",
              " 9,\n",
              " 1348,\n",
              " 31,\n",
              " 7,\n",
              " 4,\n",
              " 118,\n",
              " 785,\n",
              " 189,\n",
              " 108,\n",
              " 126,\n",
              " 93,\n",
              " 2,\n",
              " 16,\n",
              " 540,\n",
              " 324,\n",
              " 23,\n",
              " 6,\n",
              " 364,\n",
              " 352,\n",
              " 21,\n",
              " 14,\n",
              " 9,\n",
              " 93,\n",
              " 56,\n",
              " 18,\n",
              " 11,\n",
              " 230,\n",
              " 53,\n",
              " 771,\n",
              " 74,\n",
              " 31,\n",
              " 34,\n",
              " 4,\n",
              " 2834,\n",
              " 7,\n",
              " 4,\n",
              " 22,\n",
              " 5,\n",
              " 14,\n",
              " 11,\n",
              " 471,\n",
              " 9,\n",
              " 2,\n",
              " 34,\n",
              " 4,\n",
              " 321,\n",
              " 487,\n",
              " 5,\n",
              " 116,\n",
              " 15,\n",
              " 6584,\n",
              " 4,\n",
              " 22,\n",
              " 9,\n",
              " 6,\n",
              " 2286,\n",
              " 4,\n",
              " 114,\n",
              " 2679,\n",
              " 23,\n",
              " 107,\n",
              " 293,\n",
              " 1008,\n",
              " 1172,\n",
              " 5,\n",
              " 328,\n",
              " 1236,\n",
              " 4,\n",
              " 1375,\n",
              " 109,\n",
              " 9,\n",
              " 6,\n",
              " 132,\n",
              " 773,\n",
              " 2,\n",
              " 1412,\n",
              " 8,\n",
              " 1172,\n",
              " 18,\n",
              " 7865,\n",
              " 29,\n",
              " 9,\n",
              " 276,\n",
              " 11,\n",
              " 6,\n",
              " 2768,\n",
              " 19,\n",
              " 289,\n",
              " 409,\n",
              " 4,\n",
              " 5341,\n",
              " 2140,\n",
              " 2,\n",
              " 648,\n",
              " 1430,\n",
              " 2,\n",
              " 8914,\n",
              " 5,\n",
              " 27,\n",
              " 3000,\n",
              " 1432,\n",
              " 7130,\n",
              " 103,\n",
              " 6,\n",
              " 346,\n",
              " 137,\n",
              " 11,\n",
              " 4,\n",
              " 2768,\n",
              " 295,\n",
              " 36,\n",
              " 7740,\n",
              " 725,\n",
              " 6,\n",
              " 3208,\n",
              " 273,\n",
              " 11,\n",
              " 4,\n",
              " 1513,\n",
              " 15,\n",
              " 1367,\n",
              " 35,\n",
              " 154,\n",
              " 2,\n",
              " 103,\n",
              " 2,\n",
              " 173,\n",
              " 7,\n",
              " 12,\n",
              " 36,\n",
              " 515,\n",
              " 3547,\n",
              " 94,\n",
              " 2547,\n",
              " 1722,\n",
              " 5,\n",
              " 3547,\n",
              " 36,\n",
              " 203,\n",
              " 30,\n",
              " 502,\n",
              " 8,\n",
              " 361,\n",
              " 12,\n",
              " 8,\n",
              " 989,\n",
              " 143,\n",
              " 4,\n",
              " 1172,\n",
              " 3404,\n",
              " 10,\n",
              " 10,\n",
              " 328,\n",
              " 1236,\n",
              " 9,\n",
              " 6,\n",
              " 55,\n",
              " 221,\n",
              " 2989,\n",
              " 5,\n",
              " 146,\n",
              " 165,\n",
              " 179,\n",
              " 770,\n",
              " 15,\n",
              " 50,\n",
              " 713,\n",
              " 53,\n",
              " 108,\n",
              " 448,\n",
              " 23,\n",
              " 12,\n",
              " 17,\n",
              " 225,\n",
              " 38,\n",
              " 76,\n",
              " 4397,\n",
              " 18,\n",
              " 183,\n",
              " 8,\n",
              " 81,\n",
              " 19,\n",
              " 12,\n",
              " 45,\n",
              " 1257,\n",
              " 8,\n",
              " 135,\n",
              " 15,\n",
              " 2,\n",
              " 166,\n",
              " 4,\n",
              " 118,\n",
              " 7,\n",
              " 45,\n",
              " 2,\n",
              " 17,\n",
              " 466,\n",
              " 45,\n",
              " 2,\n",
              " 4,\n",
              " 22,\n",
              " 115,\n",
              " 165,\n",
              " 764,\n",
              " 6075,\n",
              " 5,\n",
              " 1030,\n",
              " 8,\n",
              " 2973,\n",
              " 73,\n",
              " 469,\n",
              " 167,\n",
              " 2127,\n",
              " 2,\n",
              " 1568,\n",
              " 6,\n",
              " 87,\n",
              " 841,\n",
              " 18,\n",
              " 4,\n",
              " 22,\n",
              " 4,\n",
              " 192,\n",
              " 15,\n",
              " 91,\n",
              " 7,\n",
              " 12,\n",
              " 304,\n",
              " 273,\n",
              " 1004,\n",
              " 4,\n",
              " 1375,\n",
              " 1172,\n",
              " 2768,\n",
              " 2,\n",
              " 15,\n",
              " 4,\n",
              " 22,\n",
              " 764,\n",
              " 55,\n",
              " 5773,\n",
              " 5,\n",
              " 14,\n",
              " 4233,\n",
              " 7444,\n",
              " 4,\n",
              " 1375,\n",
              " 326,\n",
              " 7,\n",
              " 4,\n",
              " 4760,\n",
              " 1786,\n",
              " 8,\n",
              " 361,\n",
              " 1236,\n",
              " 8,\n",
              " 989,\n",
              " 46,\n",
              " 7,\n",
              " 4,\n",
              " 2768,\n",
              " 45,\n",
              " 55,\n",
              " 776,\n",
              " 8,\n",
              " 79,\n",
              " 496,\n",
              " 98,\n",
              " 45,\n",
              " 400,\n",
              " 301,\n",
              " 15,\n",
              " 4,\n",
              " 1859,\n",
              " 9,\n",
              " 4,\n",
              " 155,\n",
              " 15,\n",
              " 66,\n",
              " 2,\n",
              " 84,\n",
              " 5,\n",
              " 14,\n",
              " 22,\n",
              " 1534,\n",
              " 15,\n",
              " 17,\n",
              " 4,\n",
              " 167,\n",
              " 2,\n",
              " 15,\n",
              " 75,\n",
              " 70,\n",
              " 115,\n",
              " 66,\n",
              " 30,\n",
              " 252,\n",
              " 7,\n",
              " 618,\n",
              " 51,\n",
              " 9,\n",
              " 2161,\n",
              " 4,\n",
              " 3130,\n",
              " 5,\n",
              " 14,\n",
              " 1525,\n",
              " 8,\n",
              " 6584,\n",
              " 15,\n",
              " 2,\n",
              " 165,\n",
              " 127,\n",
              " 1921,\n",
              " 8,\n",
              " 30,\n",
              " 179,\n",
              " 2532,\n",
              " 4,\n",
              " 22,\n",
              " 9,\n",
              " 906,\n",
              " 18,\n",
              " 6,\n",
              " 176,\n",
              " 7,\n",
              " 1007,\n",
              " 1005,\n",
              " 4,\n",
              " 1375,\n",
              " 114,\n",
              " 4,\n",
              " 105,\n",
              " 26,\n",
              " 32,\n",
              " 55,\n",
              " 221,\n",
              " 11,\n",
              " 68,\n",
              " 205,\n",
              " 96,\n",
              " 5,\n",
              " 4,\n",
              " 192,\n",
              " 15,\n",
              " 4,\n",
              " 274,\n",
              " 410,\n",
              " 220,\n",
              " 304,\n",
              " 23,\n",
              " 94,\n",
              " 205,\n",
              " 109,\n",
              " 9,\n",
              " 55,\n",
              " 73,\n",
              " 224,\n",
              " 259,\n",
              " 3786,\n",
              " 15,\n",
              " 4,\n",
              " 22,\n",
              " 528,\n",
              " 1645,\n",
              " 34,\n",
              " 4,\n",
              " 130,\n",
              " 528,\n",
              " 30,\n",
              " 685,\n",
              " 345,\n",
              " 17,\n",
              " 4,\n",
              " 277,\n",
              " 199,\n",
              " 166,\n",
              " 281,\n",
              " 5,\n",
              " 1030,\n",
              " 8,\n",
              " 30,\n",
              " 179,\n",
              " 4442,\n",
              " 444,\n",
              " 2,\n",
              " 9,\n",
              " 6,\n",
              " 371,\n",
              " 87,\n",
              " 189,\n",
              " 22,\n",
              " 5,\n",
              " 31,\n",
              " 7,\n",
              " 4,\n",
              " 118,\n",
              " 7,\n",
              " 4,\n",
              " 2068,\n",
              " 545,\n",
              " 1178,\n",
              " 829]"
            ]
          },
          "metadata": {},
          "execution_count": 22
        }
      ],
      "source": [
        "train_data[10]"
      ]
    },
    {
      "cell_type": "markdown",
      "metadata": {
        "id": "veV2rHHIXGdR"
      },
      "source": [
        "**Decoding newswires back to text**"
      ]
    },
    {
      "cell_type": "code",
      "execution_count": null,
      "metadata": {
        "id": "7U1tRphlXGdR",
        "outputId": "14918f27-b997-4d3d-fb40-ccd1998dd130",
        "colab": {
          "base_uri": "https://localhost:8080/"
        }
      },
      "outputs": [
        {
          "output_type": "stream",
          "name": "stdout",
          "text": [
            "Downloading data from https://storage.googleapis.com/tensorflow/tf-keras-datasets/reuters_word_index.json\n",
            "550378/550378 [==============================] - 0s 0us/step\n"
          ]
        }
      ],
      "source": [
        "word_index = reuters.get_word_index()\n",
        "reverse_word_index = dict([(value, key) for (key, value) in word_index.items()])\n",
        "decoded_newswire = \" \".join([reverse_word_index.get(i - 3, \"?\") for i in\n",
        "    train_data[0]])"
      ]
    },
    {
      "cell_type": "code",
      "execution_count": null,
      "metadata": {
        "id": "KNUouJ1OXGdR",
        "outputId": "ea0a88e4-644c-4b5b-a113-47440e128668",
        "colab": {
          "base_uri": "https://localhost:8080/"
        }
      },
      "outputs": [
        {
          "output_type": "execute_result",
          "data": {
            "text/plain": [
              "3"
            ]
          },
          "metadata": {},
          "execution_count": 26
        }
      ],
      "source": [
        "train_labels[10]"
      ]
    },
    {
      "cell_type": "markdown",
      "metadata": {
        "id": "YNKj01i-XGdR"
      },
      "source": [
        "### Preparing the data"
      ]
    },
    {
      "cell_type": "markdown",
      "metadata": {
        "id": "xzXTPEtVXGdR"
      },
      "source": [
        "**Encoding the input data**"
      ]
    },
    {
      "cell_type": "code",
      "execution_count": null,
      "metadata": {
        "id": "NFgEcHRVXGdR"
      },
      "outputs": [],
      "source": [
        "x_train = vectorize_sequences(train_data)\n",
        "x_test = vectorize_sequences(test_data)"
      ]
    },
    {
      "cell_type": "markdown",
      "metadata": {
        "id": "KME0wF0rXGdR"
      },
      "source": [
        "**Encoding the labels**"
      ]
    },
    {
      "cell_type": "code",
      "execution_count": null,
      "metadata": {
        "id": "hpYV1E0pXGdR"
      },
      "outputs": [],
      "source": [
        "def to_one_hot(labels, dimension=46):\n",
        "    results = np.zeros((len(labels), dimension))\n",
        "    for i, label in enumerate(labels):\n",
        "        results[i, label] = 1.\n",
        "    return results\n",
        "y_train = to_one_hot(train_labels)\n",
        "y_test = to_one_hot(test_labels)"
      ]
    },
    {
      "cell_type": "code",
      "execution_count": null,
      "metadata": {
        "id": "KxFhD1-xXGdS"
      },
      "outputs": [],
      "source": [
        "from tensorflow.keras.utils import to_categorical\n",
        "y_train = to_categorical(train_labels)\n",
        "y_test = to_categorical(test_labels)"
      ]
    },
    {
      "cell_type": "markdown",
      "metadata": {
        "id": "zdOeCdKlXGdS"
      },
      "source": [
        "### Building your model"
      ]
    },
    {
      "cell_type": "markdown",
      "metadata": {
        "id": "8dA2yweeXGdS"
      },
      "source": [
        "**Model definition**"
      ]
    },
    {
      "cell_type": "code",
      "execution_count": null,
      "metadata": {
        "id": "-gssJB9dXGdS"
      },
      "outputs": [],
      "source": [
        "model = keras.Sequential([\n",
        "    layers.Dense(64, activation=\"relu\"),\n",
        "    layers.Dense(64, activation=\"relu\"),\n",
        "    layers.Dense(46, activation=\"softmax\")\n",
        "])"
      ]
    },
    {
      "cell_type": "markdown",
      "metadata": {
        "id": "3DsbEs8vXGdS"
      },
      "source": [
        "**Compiling the model**"
      ]
    },
    {
      "cell_type": "code",
      "execution_count": null,
      "metadata": {
        "id": "y2WOVSStXGdS"
      },
      "outputs": [],
      "source": [
        "model.compile(optimizer=\"rmsprop\",\n",
        "              loss=\"categorical_crossentropy\",\n",
        "              metrics=[\"accuracy\"])"
      ]
    },
    {
      "cell_type": "markdown",
      "metadata": {
        "id": "KMXxY5AEXGdS"
      },
      "source": [
        "### Validating your approach"
      ]
    },
    {
      "cell_type": "markdown",
      "metadata": {
        "id": "s7w4b3dsXGdS"
      },
      "source": [
        "**Setting aside a validation set**"
      ]
    },
    {
      "cell_type": "code",
      "execution_count": null,
      "metadata": {
        "id": "Q3ZZfnZyXGdS"
      },
      "outputs": [],
      "source": [
        "x_val = x_train[:1000]\n",
        "partial_x_train = x_train[1000:]\n",
        "y_val = y_train[:1000]\n",
        "partial_y_train = y_train[1000:]"
      ]
    },
    {
      "cell_type": "markdown",
      "metadata": {
        "id": "LM48i1jqXGdS"
      },
      "source": [
        "**Training the model**"
      ]
    },
    {
      "cell_type": "code",
      "execution_count": null,
      "metadata": {
        "id": "56QpSgt1XGdS",
        "outputId": "593cf3ce-812b-4a58-bb1d-f324a5d00683",
        "colab": {
          "base_uri": "https://localhost:8080/"
        }
      },
      "outputs": [
        {
          "output_type": "stream",
          "name": "stdout",
          "text": [
            "Epoch 1/20\n",
            "16/16 [==============================] - 5s 125ms/step - loss: 2.7172 - accuracy: 0.4911 - val_loss: 1.8354 - val_accuracy: 0.6370\n",
            "Epoch 2/20\n",
            "16/16 [==============================] - 1s 64ms/step - loss: 1.5357 - accuracy: 0.6862 - val_loss: 1.4080 - val_accuracy: 0.6910\n",
            "Epoch 3/20\n",
            "16/16 [==============================] - 1s 66ms/step - loss: 1.1904 - accuracy: 0.7412 - val_loss: 1.2293 - val_accuracy: 0.7140\n",
            "Epoch 4/20\n",
            "16/16 [==============================] - 1s 88ms/step - loss: 0.9917 - accuracy: 0.7836 - val_loss: 1.1012 - val_accuracy: 0.7670\n",
            "Epoch 5/20\n",
            "16/16 [==============================] - 2s 97ms/step - loss: 0.8414 - accuracy: 0.8188 - val_loss: 1.0628 - val_accuracy: 0.7550\n",
            "Epoch 6/20\n",
            "16/16 [==============================] - 1s 56ms/step - loss: 0.7084 - accuracy: 0.8459 - val_loss: 0.9755 - val_accuracy: 0.7810\n",
            "Epoch 7/20\n",
            "16/16 [==============================] - 1s 55ms/step - loss: 0.6050 - accuracy: 0.8657 - val_loss: 0.9551 - val_accuracy: 0.7870\n",
            "Epoch 8/20\n",
            "16/16 [==============================] - 1s 51ms/step - loss: 0.5117 - accuracy: 0.8900 - val_loss: 0.9383 - val_accuracy: 0.7890\n",
            "Epoch 9/20\n",
            "16/16 [==============================] - 1s 49ms/step - loss: 0.4333 - accuracy: 0.9078 - val_loss: 0.8800 - val_accuracy: 0.8090\n",
            "Epoch 10/20\n",
            "16/16 [==============================] - 1s 48ms/step - loss: 0.3758 - accuracy: 0.9212 - val_loss: 0.8601 - val_accuracy: 0.8170\n",
            "Epoch 11/20\n",
            "16/16 [==============================] - 1s 82ms/step - loss: 0.3160 - accuracy: 0.9317 - val_loss: 0.8906 - val_accuracy: 0.8060\n",
            "Epoch 12/20\n",
            "16/16 [==============================] - 1s 80ms/step - loss: 0.2745 - accuracy: 0.9401 - val_loss: 0.8826 - val_accuracy: 0.8030\n",
            "Epoch 13/20\n",
            "16/16 [==============================] - 1s 81ms/step - loss: 0.2443 - accuracy: 0.9427 - val_loss: 0.8623 - val_accuracy: 0.8190\n",
            "Epoch 14/20\n",
            "16/16 [==============================] - 1s 80ms/step - loss: 0.2146 - accuracy: 0.9491 - val_loss: 0.8617 - val_accuracy: 0.8160\n",
            "Epoch 15/20\n",
            "16/16 [==============================] - 1s 48ms/step - loss: 0.1927 - accuracy: 0.9501 - val_loss: 0.8780 - val_accuracy: 0.8130\n",
            "Epoch 16/20\n",
            "16/16 [==============================] - 1s 48ms/step - loss: 0.1771 - accuracy: 0.9514 - val_loss: 0.8999 - val_accuracy: 0.8210\n",
            "Epoch 17/20\n",
            "16/16 [==============================] - 1s 53ms/step - loss: 0.1669 - accuracy: 0.9548 - val_loss: 0.9081 - val_accuracy: 0.8100\n",
            "Epoch 18/20\n",
            "16/16 [==============================] - 1s 57ms/step - loss: 0.1523 - accuracy: 0.9558 - val_loss: 0.9005 - val_accuracy: 0.8140\n",
            "Epoch 19/20\n",
            "16/16 [==============================] - 1s 49ms/step - loss: 0.1462 - accuracy: 0.9540 - val_loss: 0.9164 - val_accuracy: 0.8160\n",
            "Epoch 20/20\n",
            "16/16 [==============================] - 1s 46ms/step - loss: 0.1388 - accuracy: 0.9560 - val_loss: 0.9172 - val_accuracy: 0.8150\n"
          ]
        }
      ],
      "source": [
        "history = model.fit(partial_x_train,\n",
        "                    partial_y_train,\n",
        "                    epochs=20,\n",
        "                    batch_size=512,\n",
        "                    validation_data=(x_val, y_val))"
      ]
    },
    {
      "cell_type": "markdown",
      "metadata": {
        "id": "DN6zJnjnXGdS"
      },
      "source": [
        "**Plotting the training and validation loss**"
      ]
    },
    {
      "cell_type": "code",
      "execution_count": null,
      "metadata": {
        "id": "sn67vgC0XGdS",
        "outputId": "540c0995-77a6-4479-9739-2cd33340792a",
        "colab": {
          "base_uri": "https://localhost:8080/",
          "height": 472
        }
      },
      "outputs": [
        {
          "output_type": "display_data",
          "data": {
            "text/plain": [
              "<Figure size 640x480 with 1 Axes>"
            ],
            "image/png": "[encoded data removed]"
          },
          "metadata": {}
        }
      ],
      "source": [
        "loss = history.history[\"loss\"]\n",
        "val_loss = history.history[\"val_loss\"]\n",
        "epochs = range(1, len(loss) + 1)\n",
        "plt.plot(epochs, loss, \"bo\", label=\"Training loss\")\n",
        "plt.plot(epochs, val_loss, \"b\", label=\"Validation loss\")\n",
        "plt.title(\"Training and validation loss\")\n",
        "plt.xlabel(\"Epochs\")\n",
        "plt.ylabel(\"Loss\")\n",
        "plt.legend()\n",
        "plt.show()"
      ]
    },
    {
      "cell_type": "markdown",
      "metadata": {
        "id": "wF5MmT7TXGdS"
      },
      "source": [
        "**Plotting the training and validation accuracy**"
      ]
    },
    {
      "cell_type": "code",
      "execution_count": null,
      "metadata": {
        "id": "QkMDtO_LXGdS",
        "outputId": "d7ee61f0-bd3c-4aa7-8949-590b1028473f",
        "colab": {
          "base_uri": "https://localhost:8080/",
          "height": 472
        }
      },
      "outputs": [
        {
          "output_type": "display_data",
          "data": {
            "text/plain": [
              "<Figure size 640x480 with 1 Axes>"
            ],
            "image/png": "[encoded data removed]"
          },
          "metadata": {}
        }
      ],
      "source": [
        "plt.clf()\n",
        "acc = history.history[\"accuracy\"]\n",
        "val_acc = history.history[\"val_accuracy\"]\n",
        "plt.plot(epochs, acc, \"bo\", label=\"Training accuracy\")\n",
        "plt.plot(epochs, val_acc, \"b\", label=\"Validation accuracy\")\n",
        "plt.title(\"Training and validation accuracy\")\n",
        "plt.xlabel(\"Epochs\")\n",
        "plt.ylabel(\"Accuracy\")\n",
        "plt.legend()\n",
        "plt.show()"
      ]
    },
    {
      "cell_type": "markdown",
      "metadata": {
        "id": "-B0ptQfpXGdS"
      },
      "source": [
        "**Retraining a model from scratch**"
      ]
    },
    {
      "cell_type": "code",
      "execution_count": null,
      "metadata": {
        "id": "bc_Lgd03XGdT",
        "outputId": "e56c14cf-e1b5-4989-a3ec-a93154ab986a",
        "colab": {
          "base_uri": "https://localhost:8080/"
        }
      },
      "outputs": [
        {
          "output_type": "stream",
          "name": "stdout",
          "text": [
            "Epoch 1/9\n",
            "18/18 [==============================] - 1s 47ms/step - loss: 2.5537 - accuracy: 0.5323\n",
            "Epoch 2/9\n",
            "18/18 [==============================] - 1s 49ms/step - loss: 1.4332 - accuracy: 0.6957\n",
            "Epoch 3/9\n",
            "18/18 [==============================] - 1s 44ms/step - loss: 1.0843 - accuracy: 0.7733\n",
            "Epoch 4/9\n",
            "18/18 [==============================] - 1s 64ms/step - loss: 0.8731 - accuracy: 0.8154\n",
            "Epoch 5/9\n",
            "18/18 [==============================] - 1s 75ms/step - loss: 0.7099 - accuracy: 0.8499\n",
            "Epoch 6/9\n",
            "18/18 [==============================] - 1s 78ms/step - loss: 0.5828 - accuracy: 0.8761\n",
            "Epoch 7/9\n",
            "18/18 [==============================] - 2s 84ms/step - loss: 0.4898 - accuracy: 0.8953\n",
            "Epoch 8/9\n",
            "18/18 [==============================] - 1s 55ms/step - loss: 0.4056 - accuracy: 0.9139\n",
            "Epoch 9/9\n",
            "18/18 [==============================] - 1s 47ms/step - loss: 0.3471 - accuracy: 0.9253\n",
            "71/71 [==============================] - 0s 3ms/step - loss: 0.9309 - accuracy: 0.7921\n"
          ]
        }
      ],
      "source": [
        "model = keras.Sequential([\n",
        "  layers.Dense(64, activation=\"relu\"),\n",
        "  layers.Dense(64, activation=\"relu\"),\n",
        "  layers.Dense(46, activation=\"softmax\")\n",
        "])\n",
        "model.compile(optimizer=\"rmsprop\",\n",
        "              loss=\"categorical_crossentropy\",\n",
        "              metrics=[\"accuracy\"])\n",
        "model.fit(x_train,\n",
        "          y_train,\n",
        "          epochs=9,\n",
        "          batch_size=512)\n",
        "results = model.evaluate(x_test, y_test)"
      ]
    },
    {
      "cell_type": "code",
      "execution_count": null,
      "metadata": {
        "id": "sevYIt9VXGdT",
        "outputId": "62d4205b-202f-4a83-f1c0-28fa9662efe0",
        "colab": {
          "base_uri": "https://localhost:8080/"
        }
      },
      "outputs": [
        {
          "output_type": "execute_result",
          "data": {
            "text/plain": [
              "[0.9309401512145996, 0.7920747995376587]"
            ]
          },
          "metadata": {},
          "execution_count": 37
        }
      ],
      "source": [
        "results"
      ]
    },
    {
      "cell_type": "code",
      "execution_count": null,
      "metadata": {
        "id": "NqAPz-0hXGdT",
        "outputId": "82caa546-050c-47a8-c8e7-3d25d53dea79",
        "colab": {
          "base_uri": "https://localhost:8080/"
        }
      },
      "outputs": [
        {
          "output_type": "execute_result",
          "data": {
            "text/plain": [
              "0.1798753339269813"
            ]
          },
          "metadata": {},
          "execution_count": 38
        }
      ],
      "source": [
        "import copy\n",
        "test_labels_copy = copy.copy(test_labels)\n",
        "np.random.shuffle(test_labels_copy)\n",
        "hits_array = np.array(test_labels) == np.array(test_labels_copy)\n",
        "hits_array.mean()"
      ]
    },
    {
      "cell_type": "markdown",
      "metadata": {
        "id": "LxkL1sWEXGdT"
      },
      "source": [
        "### Generating predictions on new data"
      ]
    },
    {
      "cell_type": "code",
      "execution_count": null,
      "metadata": {
        "id": "ik6G6woeXGdT",
        "outputId": "66d9fff0-c27e-4cbe-ce84-07068648be83",
        "colab": {
          "base_uri": "https://localhost:8080/"
        }
      },
      "outputs": [
        {
          "output_type": "stream",
          "name": "stdout",
          "text": [
            "71/71 [==============================] - 0s 4ms/step\n"
          ]
        }
      ],
      "source": [
        "predictions = model.predict(x_test)"
      ]
    },
    {
      "cell_type": "code",
      "execution_count": null,
      "metadata": {
        "id": "PidjY9ZWXGdT",
        "outputId": "47e71c9e-6e29-4271-a475-8a8fd9cbcd12",
        "colab": {
          "base_uri": "https://localhost:8080/"
        }
      },
      "outputs": [
        {
          "output_type": "execute_result",
          "data": {
            "text/plain": [
              "(46,)"
            ]
          },
          "metadata": {},
          "execution_count": 40
        }
      ],
      "source": [
        "predictions[0].shape"
      ]
    },
    {
      "cell_type": "code",
      "execution_count": null,
      "metadata": {
        "id": "Ndqd2WbpXGdT"
      },
      "outputs": [],
      "source": [
        "np.sum(predictions[0])"
      ]
    },
    {
      "cell_type": "code",
      "execution_count": null,
      "metadata": {
        "id": "P2LBz2MmXGdT",
        "outputId": "f90713e7-7169-4b3e-d8e4-3c3663daadc3",
        "colab": {
          "base_uri": "https://localhost:8080/"
        }
      },
      "outputs": [
        {
          "output_type": "execute_result",
          "data": {
            "text/plain": [
              "3"
            ]
          },
          "metadata": {},
          "execution_count": 42
        }
      ],
      "source": [
        "np.argmax(predictions[0])"
      ]
    },
    {
      "cell_type": "markdown",
      "metadata": {
        "id": "ZUQLPFurXGdT"
      },
      "source": [
        "### A different way to handle the labels and the loss"
      ]
    },
    {
      "cell_type": "code",
      "execution_count": null,
      "metadata": {
        "id": "kRCFDLBYXGdT"
      },
      "outputs": [],
      "source": [
        "y_train = np.array(train_labels)\n",
        "y_test = np.array(test_labels)"
      ]
    },
    {
      "cell_type": "code",
      "execution_count": null,
      "metadata": {
        "id": "nX2q60VYXGdT"
      },
      "outputs": [],
      "source": [
        "model.compile(optimizer=\"rmsprop\",\n",
        "              loss=\"sparse_categorical_crossentropy\",\n",
        "              metrics=[\"accuracy\"])"
      ]
    },
    {
      "cell_type": "markdown",
      "metadata": {
        "id": "SrxuEuKSXGdT"
      },
      "source": [
        "### The importance of having sufficiently large intermediate layers"
      ]
    },
    {
      "cell_type": "markdown",
      "metadata": {
        "id": "Sxc4eDZLXGdT"
      },
      "source": [
        "**A model with an information bottleneck**"
      ]
    },
    {
      "cell_type": "code",
      "execution_count": null,
      "metadata": {
        "id": "_RC7I0XTXGdT"
      },
      "outputs": [],
      "source": [
        "model = keras.Sequential([\n",
        "    layers.Dense(64, activation=\"relu\"),\n",
        "    layers.Dense(4, activation=\"relu\"),\n",
        "    layers.Dense(46, activation=\"softmax\")\n",
        "])\n",
        "model.compile(optimizer=\"rmsprop\",\n",
        "              loss=\"categorical_crossentropy\",\n",
        "              metrics=[\"accuracy\"])\n",
        "model.fit(partial_x_train,\n",
        "          partial_y_train,\n",
        "          epochs=20,\n",
        "          batch_size=128,\n",
        "          validation_data=(x_val, y_val))"
      ]
    },
    {
      "cell_type": "markdown",
      "metadata": {
        "id": "sT7PUXlfXGdT"
      },
      "source": [
        "### Further experiments"
      ]
    },
    {
      "cell_type": "markdown",
      "metadata": {
        "id": "ot2xElPAXGdT"
      },
      "source": [
        "### Wrapping up"
      ]
    },
    {
      "cell_type": "markdown",
      "metadata": {
        "id": "-YQOPJgtXGdU"
      },
      "source": [
        "## Predicting house prices: A regression example"
      ]
    },
    {
      "cell_type": "markdown",
      "metadata": {
        "id": "s4YeE7CdXGdU"
      },
      "source": [
        "### The Boston Housing Price dataset"
      ]
    },
    {
      "cell_type": "markdown",
      "metadata": {
        "id": "BKebJ90zXGdU"
      },
      "source": [
        "**Loading the Boston housing dataset**"
      ]
    },
    {
      "cell_type": "code",
      "execution_count": null,
      "metadata": {
        "id": "_kXIv7M3XGdU"
      },
      "outputs": [],
      "source": [
        "from tensorflow.keras.datasets import boston_housing\n",
        "(train_data, train_targets), (test_data, test_targets) = boston_housing.load_data()"
      ]
    },
    {
      "cell_type": "code",
      "execution_count": null,
      "metadata": {
        "id": "T7saaUwiXGdU"
      },
      "outputs": [],
      "source": [
        "train_data.shape"
      ]
    },
    {
      "cell_type": "code",
      "execution_count": null,
      "metadata": {
        "id": "DC38TwBWXGdU"
      },
      "outputs": [],
      "source": [
        "test_data.shape"
      ]
    },
    {
      "cell_type": "code",
      "execution_count": null,
      "metadata": {
        "id": "A8j37lCAXGdU"
      },
      "outputs": [],
      "source": [
        "train_targets"
      ]
    },
    {
      "cell_type": "markdown",
      "metadata": {
        "id": "6iwftQp2XGdU"
      },
      "source": [
        "### Preparing the data"
      ]
    },
    {
      "cell_type": "markdown",
      "metadata": {
        "id": "Wt4-DDfXXGdU"
      },
      "source": [
        "**Normalizing the data**"
      ]
    },
    {
      "cell_type": "code",
      "execution_count": null,
      "metadata": {
        "id": "ayAD6KjoXGdU"
      },
      "outputs": [],
      "source": [
        "mean = train_data.mean(axis=0)\n",
        "train_data -= mean\n",
        "std = train_data.std(axis=0)\n",
        "train_data /= std\n",
        "test_data -= mean\n",
        "test_data /= std"
      ]
    },
    {
      "cell_type": "markdown",
      "metadata": {
        "id": "znPQK4zfXGdU"
      },
      "source": [
        "### Building your model"
      ]
    },
    {
      "cell_type": "markdown",
      "metadata": {
        "id": "r7D2IKcDXGdU"
      },
      "source": [
        "**Model definition**"
      ]
    },
    {
      "cell_type": "code",
      "execution_count": null,
      "metadata": {
        "id": "rSCO-3pIXGdU"
      },
      "outputs": [],
      "source": [
        "def build_model():\n",
        "    model = keras.Sequential([\n",
        "        layers.Dense(64, activation=\"relu\"),\n",
        "        layers.Dense(64, activation=\"relu\"),\n",
        "        layers.Dense(1)\n",
        "    ])\n",
        "    model.compile(optimizer=\"rmsprop\", loss=\"mse\", metrics=[\"mae\"])\n",
        "    return model"
      ]
    },
    {
      "cell_type": "markdown",
      "metadata": {
        "id": "4x0Kk0PVXGdU"
      },
      "source": [
        "### Validating your approach using K-fold validation"
      ]
    },
    {
      "cell_type": "markdown",
      "metadata": {
        "id": "pJGii99FXGdU"
      },
      "source": [
        "**K-fold validation**"
      ]
    },
    {
      "cell_type": "code",
      "execution_count": null,
      "metadata": {
        "id": "xWxQ7XriXGdU"
      },
      "outputs": [],
      "source": [
        "k = 4\n",
        "num_val_samples = len(train_data) // k\n",
        "num_epochs = 100\n",
        "all_scores = []\n",
        "for i in range(k):\n",
        "    print(f\"Processing fold #{i}\")\n",
        "    val_data = train_data[i * num_val_samples: (i + 1) * num_val_samples]\n",
        "    val_targets = train_targets[i * num_val_samples: (i + 1) * num_val_samples]\n",
        "    partial_train_data = np.concatenate(\n",
        "        [train_data[:i * num_val_samples],\n",
        "         train_data[(i + 1) * num_val_samples:]],\n",
        "        axis=0)\n",
        "    partial_train_targets = np.concatenate(\n",
        "        [train_targets[:i * num_val_samples],\n",
        "         train_targets[(i + 1) * num_val_samples:]],\n",
        "        axis=0)\n",
        "    model = build_model()\n",
        "    model.fit(partial_train_data, partial_train_targets,\n",
        "              epochs=num_epochs, batch_size=16, verbose=0)\n",
        "    val_mse, val_mae = model.evaluate(val_data, val_targets, verbose=0)\n",
        "    all_scores.append(val_mae)"
      ]
    },
    {
      "cell_type": "code",
      "execution_count": null,
      "metadata": {
        "id": "LZG-U4YuXGdU"
      },
      "outputs": [],
      "source": [
        "all_scores"
      ]
    },
    {
      "cell_type": "code",
      "execution_count": null,
      "metadata": {
        "id": "soonZ9xGXGdU"
      },
      "outputs": [],
      "source": [
        "np.mean(all_scores)"
      ]
    },
    {
      "cell_type": "markdown",
      "metadata": {
        "id": "e92sy1w1XGdV"
      },
      "source": [
        "**Saving the validation logs at each fold**"
      ]
    },
    {
      "cell_type": "code",
      "execution_count": null,
      "metadata": {
        "id": "6SINr_hNXGdV"
      },
      "outputs": [],
      "source": [
        "num_epochs = 500\n",
        "all_mae_histories = []\n",
        "for i in range(k):\n",
        "    print(f\"Processing fold #{i}\")\n",
        "    val_data = train_data[i * num_val_samples: (i + 1) * num_val_samples]\n",
        "    val_targets = train_targets[i * num_val_samples: (i + 1) * num_val_samples]\n",
        "    partial_train_data = np.concatenate(\n",
        "        [train_data[:i * num_val_samples],\n",
        "         train_data[(i + 1) * num_val_samples:]],\n",
        "        axis=0)\n",
        "    partial_train_targets = np.concatenate(\n",
        "        [train_targets[:i * num_val_samples],\n",
        "         train_targets[(i + 1) * num_val_samples:]],\n",
        "        axis=0)\n",
        "    model = build_model()\n",
        "    history = model.fit(partial_train_data, partial_train_targets,\n",
        "                        validation_data=(val_data, val_targets),\n",
        "                        epochs=num_epochs, batch_size=16, verbose=0)\n",
        "    mae_history = history.history[\"val_mae\"]\n",
        "    all_mae_histories.append(mae_history)"
      ]
    },
    {
      "cell_type": "markdown",
      "metadata": {
        "id": "Fj3GMbMEXGdV"
      },
      "source": [
        "**Building the history of successive mean K-fold validation scores**"
      ]
    },
    {
      "cell_type": "code",
      "execution_count": null,
      "metadata": {
        "id": "Z0ftuCJhXGdV"
      },
      "outputs": [],
      "source": [
        "average_mae_history = [\n",
        "    np.mean([x[i] for x in all_mae_histories]) for i in range(num_epochs)]"
      ]
    },
    {
      "cell_type": "markdown",
      "metadata": {
        "id": "v3BZpbXrXGdV"
      },
      "source": [
        "**Plotting validation scores**"
      ]
    },
    {
      "cell_type": "code",
      "execution_count": null,
      "metadata": {
        "id": "fYZ7wLpoXGdV"
      },
      "outputs": [],
      "source": [
        "plt.plot(range(1, len(average_mae_history) + 1), average_mae_history)\n",
        "plt.xlabel(\"Epochs\")\n",
        "plt.ylabel(\"Validation MAE\")\n",
        "plt.show()"
      ]
    },
    {
      "cell_type": "markdown",
      "metadata": {
        "id": "dzijQUbkXGdV"
      },
      "source": [
        "**Plotting validation scores, excluding the first 10 data points**"
      ]
    },
    {
      "cell_type": "code",
      "execution_count": null,
      "metadata": {
        "id": "mWPMLy9eXGdV"
      },
      "outputs": [],
      "source": [
        "truncated_mae_history = average_mae_history[10:]\n",
        "plt.plot(range(1, len(truncated_mae_history) + 1), truncated_mae_history)\n",
        "plt.xlabel(\"Epochs\")\n",
        "plt.ylabel(\"Validation MAE\")\n",
        "plt.show()"
      ]
    },
    {
      "cell_type": "markdown",
      "metadata": {
        "id": "8Nx3skMFXGdV"
      },
      "source": [
        "**Training the final model**"
      ]
    },
    {
      "cell_type": "code",
      "execution_count": null,
      "metadata": {
        "id": "r2GqJmoQXGdV"
      },
      "outputs": [],
      "source": [
        "model = build_model()\n",
        "model.fit(train_data, train_targets,\n",
        "          epochs=130, batch_size=16, verbose=0)\n",
        "test_mse_score, test_mae_score = model.evaluate(test_data, test_targets)"
      ]
    },
    {
      "cell_type": "code",
      "execution_count": null,
      "metadata": {
        "id": "VHHskSETXGdV"
      },
      "outputs": [],
      "source": [
        "test_mae_score"
      ]
    },
    {
      "cell_type": "markdown",
      "metadata": {
        "id": "n6hT4S_AXGdV"
      },
      "source": [
        "### Generating predictions on new data"
      ]
    },
    {
      "cell_type": "code",
      "execution_count": null,
      "metadata": {
        "id": "eKreWWatXGdV"
      },
      "outputs": [],
      "source": [
        "predictions = model.predict(test_data)\n",
        "predictions[0]"
      ]
    },
    {
      "cell_type": "markdown",
      "metadata": {
        "id": "lNbLCt-_XGdV"
      },
      "source": [
        "### Wrapping up"
      ]
    },
    {
      "cell_type": "markdown",
      "metadata": {
        "id": "2P4NS7k9XGdV"
      },
      "source": [
        "## Summary"
      ]
    }
  ],
  "metadata": {
    "colab": {
      "provenance": [],
      "include_colab_link": true
    },
    "kernelspec": {
      "display_name": "Python 3",
      "language": "python",
      "name": "python3"
    },
    "language_info": {
      "codemirror_mode": {
        "name": "ipython",
        "version": 3
      },
      "file_extension": ".py",
      "mimetype": "text/x-python",
      "name": "python",
      "nbconvert_exporter": "python",
      "pygments_lexer": "ipython3",
      "version": "3.7.0"
    }
  },
  "nbformat": 4,
  "nbformat_minor": 0
}